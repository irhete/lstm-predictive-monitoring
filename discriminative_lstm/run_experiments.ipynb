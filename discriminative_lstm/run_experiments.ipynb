{
 "cells": [
  {
   "cell_type": "code",
   "execution_count": 1,
   "metadata": {
    "collapsed": true
   },
   "outputs": [],
   "source": [
    "import subprocess\n",
    "import time"
   ]
  },
  {
   "cell_type": "code",
   "execution_count": 30,
   "metadata": {
    "collapsed": true
   },
   "outputs": [],
   "source": [
    "experiments_filename = \"run_LSTM_smallsample.py\"\n",
    "\n",
    "lstmsize = 16\n",
    "lstmsize2 = 16\n",
    "dropout = 0\n",
    "learning_rate = 0.01\n",
    "nb_epoch = 3000\n",
    "batch_size = 8\n",
    "sample_size = 1000"
   ]
  },
  {
   "cell_type": "code",
   "execution_count": 31,
   "metadata": {
    "collapsed": true
   },
   "outputs": [],
   "source": [
    "params = \"lstmsize%s_lstm2size%s_dropout%s_lr%s_epoch%s_batchsize%s_sample%s_batchnormalized\"%(lstmsize, lstmsize2, int(dropout*100), int(learning_rate*100000), nb_epoch, batch_size, sample_size)"
   ]
  },
  {
   "cell_type": "code",
   "execution_count": 32,
   "metadata": {
    "collapsed": false
   },
   "outputs": [
    {
     "data": {
      "text/plain": [
       "<subprocess.Popen at 0x367a810>"
      ]
     },
     "execution_count": 32,
     "metadata": {},
     "output_type": "execute_result"
    }
   ],
   "source": [
    "output_filename = \"/storage/anna_irene/output_sample1000/output_%s.txt\"%(params)\n",
    "#output_filename = \"/storage/anna_irene/output.txt\"\n",
    "\n",
    "with open(\"run2.sh\", \"w\") as fout:\n",
    "    fout.write(\"#!/bin/bash\\n\")\n",
    "    fout.write(\"#SBATCH --partition=gpu\\n\")\n",
    "    fout.write(\"#SBATCH --gres=gpu:1\\n\")\n",
    "    fout.write(\"#SBATCH --output=%s\\n\"%output_filename)\n",
    "    fout.write(\"#SBATCH --mem=20000\\n\")\n",
    "\n",
    "    fout.write(\"THEANO_FLAGS=mode=FAST_RUN,device=gpu0,floatX=float32\\n\")\n",
    "    fout.write(\"python %s %s %s %s %s %s %s %s\\n\"%(experiments_filename, lstmsize, lstmsize2, dropout, learning_rate, nb_epoch, batch_size, sample_size))\n",
    "    fout.write(\"\\n\")\n",
    "    fout.write(\"chmod -R 777 /storage/anna_irene\")\n",
    "    \n",
    "subprocess.Popen(\"sbatch run2.sh\".split())"
   ]
  },
  {
   "cell_type": "markdown",
   "metadata": {},
   "source": [
    "# Random forest"
   ]
  },
  {
   "cell_type": "code",
   "execution_count": 27,
   "metadata": {
    "collapsed": true
   },
   "outputs": [],
   "source": [
    "experiments_filename = \"run_RF.py\"\n",
    "sample_size = 50000"
   ]
  },
  {
   "cell_type": "code",
   "execution_count": 28,
   "metadata": {
    "collapsed": false
   },
   "outputs": [
    {
     "data": {
      "text/plain": [
       "<subprocess.Popen at 0x367a550>"
      ]
     },
     "execution_count": 28,
     "metadata": {},
     "output_type": "execute_result"
    }
   ],
   "source": [
    "output_filename = \"/storage/anna_irene/output_sample1000/output_rf_bpic2017_sample%s.txt\"%(sample_size)\n",
    "\n",
    "with open(\"run2.sh\", \"w\") as fout:\n",
    "    fout.write(\"#!/bin/bash\\n\")\n",
    "    fout.write(\"#SBATCH --partition=long\\n\")\n",
    "    fout.write(\"#SBATCH --output=%s\\n\"%output_filename)\n",
    "    fout.write(\"#SBATCH --mem=20000\\n\")\n",
    "\n",
    "    #fout.write(\"THEANO_FLAGS=mode=FAST_RUN,device=gpu0,floatX=float32\\n\")\n",
    "    fout.write(\"python %s %s\\n\"%(experiments_filename, sample_size))\n",
    "    fout.write(\"\\n\")\n",
    "    fout.write(\"chmod -R 777 /storage/anna_irene\")\n",
    "    \n",
    "subprocess.Popen(\"sbatch run2.sh\".split())"
   ]
  },
  {
   "cell_type": "code",
   "execution_count": null,
   "metadata": {
    "collapsed": true
   },
   "outputs": [],
   "source": []
  }
 ],
 "metadata": {
  "kernelspec": {
   "display_name": "Python 2",
   "language": "python",
   "name": "python2"
  },
  "language_info": {
   "codemirror_mode": {
    "name": "ipython",
    "version": 2
   },
   "file_extension": ".py",
   "mimetype": "text/x-python",
   "name": "python",
   "nbconvert_exporter": "python",
   "pygments_lexer": "ipython2",
   "version": "2.7.3"
  }
 },
 "nbformat": 4,
 "nbformat_minor": 1
}
