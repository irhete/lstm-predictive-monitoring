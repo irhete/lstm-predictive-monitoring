{
 "cells": [
  {
   "cell_type": "code",
   "execution_count": 1,
   "metadata": {
    "collapsed": true
   },
   "outputs": [],
   "source": [
    "import pandas as pd\n",
    "import random \n",
    "import math\n",
    "import os"
   ]
  },
  {
   "cell_type": "code",
   "execution_count": 2,
   "metadata": {
    "collapsed": true
   },
   "outputs": [],
   "source": [
    "#data_path = \"/storage/hpc_irheta/bpic2013/\"\n",
    "#input_filename = \"BPIC13_i.csv\"\n",
    "#output_filename_template = \"BPIC13_i_fold%s.csv\"\n",
    "\n",
    "data_path = \"/storage/hpc_irheta/traffic_fines/\"\n",
    "input_filename = \"Road_Traffic_Fine_Management_Process.csv\"\n",
    "output_filename_template = \"traffic_fines_fold%s.csv\"\n",
    "folds_dir = os.path.join(data_path, \"folds\")"
   ]
  },
  {
   "cell_type": "code",
   "execution_count": 3,
   "metadata": {
    "collapsed": false
   },
   "outputs": [],
   "source": [
    "case_id_col = \"Case ID\"\n",
    "n_folds = 5"
   ]
  },
  {
   "cell_type": "code",
   "execution_count": 4,
   "metadata": {
    "collapsed": false
   },
   "outputs": [],
   "source": [
    "data = pd.read_csv(os.path.join(data_path, input_filename), sep=\";\")"
   ]
  },
  {
   "cell_type": "code",
   "execution_count": 5,
   "metadata": {
    "collapsed": true
   },
   "outputs": [],
   "source": [
    "case_ids = data[case_id_col].unique()"
   ]
  },
  {
   "cell_type": "code",
   "execution_count": 6,
   "metadata": {
    "collapsed": false
   },
   "outputs": [],
   "source": [
    "random.seed(22)\n",
    "random.shuffle(case_ids)"
   ]
  },
  {
   "cell_type": "code",
   "execution_count": 7,
   "metadata": {
    "collapsed": false
   },
   "outputs": [],
   "source": [
    "fold_size = int(math.ceil(1.0 * len(case_ids) / n_folds))"
   ]
  },
  {
   "cell_type": "code",
   "execution_count": 8,
   "metadata": {
    "collapsed": true
   },
   "outputs": [],
   "source": [
    "if not os.path.exists(folds_dir):\n",
    "    os.makedirs(folds_dir)"
   ]
  },
  {
   "cell_type": "code",
   "execution_count": 9,
   "metadata": {
    "collapsed": false
   },
   "outputs": [
    {
     "name": "stdout",
     "output_type": "stream",
     "text": [
      "(0, 30074)\n",
      "(30074, 60148)\n",
      "(60148, 90222)\n",
      "(90222, 120296)\n",
      "(120296, 150370)\n"
     ]
    }
   ],
   "source": [
    "for i in range(n_folds):\n",
    "    fold_case_ids = case_ids[i*fold_size:(i+1)*fold_size]\n",
    "    print(i*fold_size, (i+1)*fold_size)\n",
    "    data[data[case_id_col].isin(fold_case_ids)].to_csv(os.path.join(folds_dir, output_filename_template%i), sep=\";\", index=False)"
   ]
  },
  {
   "cell_type": "code",
   "execution_count": null,
   "metadata": {
    "collapsed": true
   },
   "outputs": [],
   "source": []
  },
  {
   "cell_type": "code",
   "execution_count": null,
   "metadata": {
    "collapsed": true
   },
   "outputs": [],
   "source": []
  }
 ],
 "metadata": {
  "kernelspec": {
   "display_name": "Python 2",
   "language": "python",
   "name": "python2"
  },
  "language_info": {
   "codemirror_mode": {
    "name": "ipython",
    "version": 2
   },
   "file_extension": ".py",
   "mimetype": "text/x-python",
   "name": "python",
   "nbconvert_exporter": "python",
   "pygments_lexer": "ipython2",
   "version": "2.7.3"
  }
 },
 "nbformat": 4,
 "nbformat_minor": 1
}
