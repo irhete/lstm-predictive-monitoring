{
 "cells": [
  {
   "cell_type": "code",
   "execution_count": 1,
   "metadata": {
    "collapsed": true
   },
   "outputs": [],
   "source": [
    "%load_ext autoreload\n",
    "%autoreload 2"
   ]
  },
  {
   "cell_type": "code",
   "execution_count": 2,
   "metadata": {
    "collapsed": false
   },
   "outputs": [
    {
     "name": "stderr",
     "output_type": "stream",
     "text": [
      "Using Theano backend.\n",
      "WARNING (theano.sandbox.cuda): CUDA is installed, but device gpu0 is not available  (error: Unable to get the number of gpus available: no CUDA-capable device is detected)\n"
     ]
    }
   ],
   "source": [
    "from keras.models import Sequential\n",
    "from keras.layers import LSTM, Dense\n",
    "import numpy as np"
   ]
  },
  {
   "cell_type": "code",
   "execution_count": 3,
   "metadata": {
    "collapsed": true
   },
   "outputs": [],
   "source": [
    "data_dim = 16\n",
    "timesteps = 8\n",
    "nb_classes = 10"
   ]
  },
  {
   "cell_type": "code",
   "execution_count": 16,
   "metadata": {
    "collapsed": true
   },
   "outputs": [],
   "source": [
    "# expected input data shape: (batch_size, timesteps, data_dim)\n",
    "model = Sequential()\n",
    "model.add(LSTM(32, return_sequences=True,\n",
    "               input_shape=(timesteps, data_dim)))  # returns a sequence of vectors of dimension 32\n",
    "model.add(LSTM(32, return_sequences=True))  # returns a sequence of vectors of dimension 32\n",
    "model.add(LSTM(32))  # return a single vector of dimension 32\n",
    "model.add(Dense(10, activation='softmax'))\n",
    "\n",
    "model.compile(loss='categorical_crossentropy',\n",
    "              optimizer='rmsprop',\n",
    "              metrics=['accuracy'])"
   ]
  },
  {
   "cell_type": "code",
   "execution_count": 17,
   "metadata": {
    "collapsed": true
   },
   "outputs": [],
   "source": [
    "# generate dummy training data\n",
    "x_train = np.random.random((1000, timesteps, data_dim))\n",
    "y_train = np.random.random((1000, nb_classes))\n",
    "\n",
    "# generate dummy validation data\n",
    "x_val = np.random.random((100, timesteps, data_dim))\n",
    "y_val = np.random.random((100, nb_classes))"
   ]
  },
  {
   "cell_type": "code",
   "execution_count": 18,
   "metadata": {
    "collapsed": false
   },
   "outputs": [
    {
     "name": "stdout",
     "output_type": "stream",
     "text": [
      "Train on 1000 samples, validate on 100 samples\n",
      "Epoch 1/5\n",
      "1000/1000 [==============================] - 0s - loss: 11.5198 - acc: 0.1000 - val_loss: 11.5619 - val_acc: 0.0800\n",
      "Epoch 2/5\n",
      "1000/1000 [==============================] - 0s - loss: 11.5134 - acc: 0.0930 - val_loss: 11.5576 - val_acc: 0.0800\n",
      "Epoch 3/5\n",
      "1000/1000 [==============================] - 0s - loss: 11.5128 - acc: 0.1030 - val_loss: 11.5607 - val_acc: 0.0800\n",
      "Epoch 4/5\n",
      "1000/1000 [==============================] - 0s - loss: 11.5119 - acc: 0.1090 - val_loss: 11.5582 - val_acc: 0.0600\n",
      "Epoch 5/5\n",
      "1000/1000 [==============================] - 0s - loss: 11.5102 - acc: 0.1190 - val_loss: 11.5588 - val_acc: 0.0600\n"
     ]
    },
    {
     "data": {
      "text/plain": [
       "<keras.callbacks.History at 0xfc35090>"
      ]
     },
     "execution_count": 18,
     "metadata": {},
     "output_type": "execute_result"
    }
   ],
   "source": [
    "model.fit(x_train, y_train,\n",
    "          batch_size=64, nb_epoch=5,\n",
    "          validation_data=(x_val, y_val))"
   ]
  },
  {
   "cell_type": "code",
   "execution_count": 19,
   "metadata": {
    "collapsed": false
   },
   "outputs": [
    {
     "data": {
      "text/plain": [
       "(1000, 8, 16)"
      ]
     },
     "execution_count": 19,
     "metadata": {},
     "output_type": "execute_result"
    }
   ],
   "source": [
    "x_train.shape"
   ]
  },
  {
   "cell_type": "markdown",
   "metadata": {},
   "source": [
    "# BPM"
   ]
  },
  {
   "cell_type": "code",
   "execution_count": 4,
   "metadata": {
    "collapsed": false
   },
   "outputs": [],
   "source": [
    "import pandas as pd"
   ]
  },
  {
   "cell_type": "code",
   "execution_count": 5,
   "metadata": {
    "collapsed": false
   },
   "outputs": [],
   "source": [
    "data = pd.read_csv(\"/storage/hpc_irheta/bpm_data/Road_Traffic_Fine_Management_Process_labeled.csv\", sep=\";\")\n",
    "data['matricola'].replace(0.0, 1, inplace=True)\n",
    "data['Resource'] = data['Resource'].astype(str)\n",
    "data['article'] = data['article'].astype(str)"
   ]
  },
  {
   "cell_type": "code",
   "execution_count": 6,
   "metadata": {
    "collapsed": false
   },
   "outputs": [
    {
     "data": {
      "text/plain": [
       "470893"
      ]
     },
     "execution_count": 6,
     "metadata": {},
     "output_type": "execute_result"
    }
   ],
   "source": [
    "len(data)"
   ]
  },
  {
   "cell_type": "code",
   "execution_count": 7,
   "metadata": {
    "collapsed": true
   },
   "outputs": [],
   "source": [
    "cat_cols = ['Activity', 'Resource', 'Variant', 'article', 'dismissal', 'matricola', 'notificationType', 'vehicleClass']\n",
    "numeric_cols = ['amount', 'expense', 'points']"
   ]
  },
  {
   "cell_type": "code",
   "execution_count": 8,
   "metadata": {
    "collapsed": true
   },
   "outputs": [],
   "source": [
    "cat_data = pd.get_dummies(data[cat_cols])\n",
    "dt_final = pd.concat([data[[\"Case ID\", \"event_nr\"]+numeric_cols], cat_data], axis=1).fillna(0)"
   ]
  },
  {
   "cell_type": "code",
   "execution_count": 9,
   "metadata": {
    "collapsed": false
   },
   "outputs": [
    {
     "data": {
      "text/html": [
       "<div>\n",
       "<table border=\"1\" class=\"dataframe\">\n",
       "  <thead>\n",
       "    <tr style=\"text-align: right;\">\n",
       "      <th></th>\n",
       "      <th>Case ID</th>\n",
       "      <th>event_nr</th>\n",
       "      <th>amount</th>\n",
       "      <th>expense</th>\n",
       "      <th>points</th>\n",
       "      <th>matricola</th>\n",
       "      <th>Activity_Add penalty</th>\n",
       "      <th>Activity_Appeal to Judge</th>\n",
       "      <th>Activity_Create Fine</th>\n",
       "      <th>Activity_Insert Date Appeal to Prefecture</th>\n",
       "      <th>...</th>\n",
       "      <th>dismissal_T</th>\n",
       "      <th>dismissal_U</th>\n",
       "      <th>dismissal_V</th>\n",
       "      <th>dismissal_Z</th>\n",
       "      <th>notificationType_C</th>\n",
       "      <th>notificationType_P</th>\n",
       "      <th>vehicleClass_A</th>\n",
       "      <th>vehicleClass_C</th>\n",
       "      <th>vehicleClass_M</th>\n",
       "      <th>vehicleClass_R</th>\n",
       "    </tr>\n",
       "  </thead>\n",
       "  <tbody>\n",
       "    <tr>\n",
       "      <th>0</th>\n",
       "      <td>A1</td>\n",
       "      <td>1.0</td>\n",
       "      <td>35.0</td>\n",
       "      <td>0.0</td>\n",
       "      <td>0.0</td>\n",
       "      <td>0.0</td>\n",
       "      <td>0</td>\n",
       "      <td>0</td>\n",
       "      <td>1</td>\n",
       "      <td>0</td>\n",
       "      <td>...</td>\n",
       "      <td>0</td>\n",
       "      <td>0</td>\n",
       "      <td>0</td>\n",
       "      <td>0</td>\n",
       "      <td>0</td>\n",
       "      <td>0</td>\n",
       "      <td>1</td>\n",
       "      <td>0</td>\n",
       "      <td>0</td>\n",
       "      <td>0</td>\n",
       "    </tr>\n",
       "    <tr>\n",
       "      <th>1</th>\n",
       "      <td>A1</td>\n",
       "      <td>2.0</td>\n",
       "      <td>0.0</td>\n",
       "      <td>11.0</td>\n",
       "      <td>0.0</td>\n",
       "      <td>0.0</td>\n",
       "      <td>0</td>\n",
       "      <td>0</td>\n",
       "      <td>0</td>\n",
       "      <td>0</td>\n",
       "      <td>...</td>\n",
       "      <td>0</td>\n",
       "      <td>0</td>\n",
       "      <td>0</td>\n",
       "      <td>0</td>\n",
       "      <td>0</td>\n",
       "      <td>0</td>\n",
       "      <td>0</td>\n",
       "      <td>0</td>\n",
       "      <td>0</td>\n",
       "      <td>0</td>\n",
       "    </tr>\n",
       "    <tr>\n",
       "      <th>2</th>\n",
       "      <td>A100</td>\n",
       "      <td>1.0</td>\n",
       "      <td>35.0</td>\n",
       "      <td>0.0</td>\n",
       "      <td>0.0</td>\n",
       "      <td>0.0</td>\n",
       "      <td>0</td>\n",
       "      <td>0</td>\n",
       "      <td>1</td>\n",
       "      <td>0</td>\n",
       "      <td>...</td>\n",
       "      <td>0</td>\n",
       "      <td>0</td>\n",
       "      <td>0</td>\n",
       "      <td>0</td>\n",
       "      <td>0</td>\n",
       "      <td>0</td>\n",
       "      <td>1</td>\n",
       "      <td>0</td>\n",
       "      <td>0</td>\n",
       "      <td>0</td>\n",
       "    </tr>\n",
       "    <tr>\n",
       "      <th>3</th>\n",
       "      <td>A100</td>\n",
       "      <td>2.0</td>\n",
       "      <td>0.0</td>\n",
       "      <td>11.0</td>\n",
       "      <td>0.0</td>\n",
       "      <td>0.0</td>\n",
       "      <td>0</td>\n",
       "      <td>0</td>\n",
       "      <td>0</td>\n",
       "      <td>0</td>\n",
       "      <td>...</td>\n",
       "      <td>0</td>\n",
       "      <td>0</td>\n",
       "      <td>0</td>\n",
       "      <td>0</td>\n",
       "      <td>0</td>\n",
       "      <td>0</td>\n",
       "      <td>0</td>\n",
       "      <td>0</td>\n",
       "      <td>0</td>\n",
       "      <td>0</td>\n",
       "    </tr>\n",
       "    <tr>\n",
       "      <th>4</th>\n",
       "      <td>A100</td>\n",
       "      <td>3.0</td>\n",
       "      <td>0.0</td>\n",
       "      <td>0.0</td>\n",
       "      <td>0.0</td>\n",
       "      <td>0.0</td>\n",
       "      <td>0</td>\n",
       "      <td>0</td>\n",
       "      <td>0</td>\n",
       "      <td>0</td>\n",
       "      <td>...</td>\n",
       "      <td>0</td>\n",
       "      <td>0</td>\n",
       "      <td>0</td>\n",
       "      <td>0</td>\n",
       "      <td>0</td>\n",
       "      <td>1</td>\n",
       "      <td>0</td>\n",
       "      <td>0</td>\n",
       "      <td>0</td>\n",
       "      <td>0</td>\n",
       "    </tr>\n",
       "  </tbody>\n",
       "</table>\n",
       "<p>5 rows × 492 columns</p>\n",
       "</div>"
      ],
      "text/plain": [
       "  Case ID  event_nr  amount  expense  points  matricola  Activity_Add penalty  \\\n",
       "0      A1       1.0    35.0      0.0     0.0        0.0                     0   \n",
       "1      A1       2.0     0.0     11.0     0.0        0.0                     0   \n",
       "2    A100       1.0    35.0      0.0     0.0        0.0                     0   \n",
       "3    A100       2.0     0.0     11.0     0.0        0.0                     0   \n",
       "4    A100       3.0     0.0      0.0     0.0        0.0                     0   \n",
       "\n",
       "   Activity_Appeal to Judge  Activity_Create Fine  \\\n",
       "0                         0                     1   \n",
       "1                         0                     0   \n",
       "2                         0                     1   \n",
       "3                         0                     0   \n",
       "4                         0                     0   \n",
       "\n",
       "   Activity_Insert Date Appeal to Prefecture       ...        dismissal_T  \\\n",
       "0                                          0       ...                  0   \n",
       "1                                          0       ...                  0   \n",
       "2                                          0       ...                  0   \n",
       "3                                          0       ...                  0   \n",
       "4                                          0       ...                  0   \n",
       "\n",
       "   dismissal_U  dismissal_V  dismissal_Z  notificationType_C  \\\n",
       "0            0            0            0                   0   \n",
       "1            0            0            0                   0   \n",
       "2            0            0            0                   0   \n",
       "3            0            0            0                   0   \n",
       "4            0            0            0                   0   \n",
       "\n",
       "   notificationType_P  vehicleClass_A  vehicleClass_C  vehicleClass_M  \\\n",
       "0                   0               1               0               0   \n",
       "1                   0               0               0               0   \n",
       "2                   0               1               0               0   \n",
       "3                   0               0               0               0   \n",
       "4                   1               0               0               0   \n",
       "\n",
       "   vehicleClass_R  \n",
       "0               0  \n",
       "1               0  \n",
       "2               0  \n",
       "3               0  \n",
       "4               0  \n",
       "\n",
       "[5 rows x 492 columns]"
      ]
     },
     "execution_count": 9,
     "metadata": {},
     "output_type": "execute_result"
    }
   ],
   "source": [
    "dt_final.head()"
   ]
  },
  {
   "cell_type": "code",
   "execution_count": 10,
   "metadata": {
    "collapsed": false
   },
   "outputs": [
    {
     "data": {
      "text/plain": [
       "10.0"
      ]
     },
     "execution_count": 10,
     "metadata": {},
     "output_type": "execute_result"
    }
   ],
   "source": [
    "dt_final.event_nr.max()"
   ]
  },
  {
   "cell_type": "code",
   "execution_count": 11,
   "metadata": {
    "collapsed": false
   },
   "outputs": [],
   "source": [
    "grouped = dt_final.groupby(\"Case ID\")"
   ]
  },
  {
   "cell_type": "code",
   "execution_count": null,
   "metadata": {
    "collapsed": true
   },
   "outputs": [],
   "source": []
  },
  {
   "cell_type": "code",
   "execution_count": 12,
   "metadata": {
    "collapsed": false
   },
   "outputs": [],
   "source": [
    "batches = {}\n",
    "i = 0\n",
    "for name, group in grouped:\n",
    "    case_length = len(group)\n",
    "    if case_length not in batches:\n",
    "        batches[case_length] = np.zeros((0,case_length,group.shape[1]-2))\n",
    "    batches[case_length] = np.concatenate([batches[case_length],group.sort_values(\"event_nr\").as_matrix()[:,2:].reshape((1,case_length,group.shape[1]-2))], axis=0)\n",
    "    if i > 10:\n",
    "        break\n",
    "    i += 1"
   ]
  },
  {
   "cell_type": "code",
   "execution_count": 13,
   "metadata": {
    "collapsed": false
   },
   "outputs": [
    {
     "name": "stdout",
     "output_type": "stream",
     "text": [
      "1 (2, 1, 490)\n",
      "2 (1, 2, 490)\n",
      "4 (2, 4, 490)\n",
      "5 (6, 5, 490)\n",
      "6 (1, 6, 490)\n"
     ]
    }
   ],
   "source": [
    "for k, v in batches.items():\n",
    "    print k, v.shape"
   ]
  },
  {
   "cell_type": "code",
   "execution_count": 16,
   "metadata": {
    "collapsed": false
   },
   "outputs": [
    {
     "data": {
      "text/plain": [
       "array([[[35.0, 0.0, 0.0, ..., 0, 0, 0],\n",
       "        [0.0, 11.0, 0.0, ..., 0, 0, 0],\n",
       "        [0.0, 0.0, 0.0, ..., 0, 0, 0],\n",
       "        [71.5, 0.0, 0.0, ..., 0, 0, 0],\n",
       "        [0.0, 0.0, 0.0, ..., 0, 0, 0]],\n",
       "\n",
       "       [[36.0, 0.0, 0.0, ..., 0, 0, 0],\n",
       "        [0.0, 13.0, 0.0, ..., 0, 0, 0],\n",
       "        [0.0, 0.0, 0.0, ..., 0, 0, 0],\n",
       "        [74.0, 0.0, 0.0, ..., 0, 0, 0],\n",
       "        [0.0, 0.0, 0.0, ..., 0, 0, 0]],\n",
       "\n",
       "       [[36.0, 0.0, 0.0, ..., 0, 0, 0],\n",
       "        [0.0, 13.0, 0.0, ..., 0, 0, 0],\n",
       "        [0.0, 0.0, 0.0, ..., 0, 0, 0],\n",
       "        [74.0, 0.0, 0.0, ..., 0, 0, 0],\n",
       "        [0.0, 0.0, 0.0, ..., 0, 0, 0]],\n",
       "\n",
       "       [[21.0, 0.0, 0.0, ..., 0, 0, 0],\n",
       "        [0.0, 11.0, 0.0, ..., 0, 0, 0],\n",
       "        [0.0, 0.0, 0.0, ..., 0, 0, 0],\n",
       "        [42.5, 0.0, 0.0, ..., 0, 0, 0],\n",
       "        [0.0, 0.0, 0.0, ..., 0, 0, 0]],\n",
       "\n",
       "       [[36.0, 0.0, 0.0, ..., 0, 0, 0],\n",
       "        [0.0, 13.0, 0.0, ..., 0, 0, 0],\n",
       "        [0.0, 0.0, 0.0, ..., 0, 0, 0],\n",
       "        [74.0, 0.0, 0.0, ..., 0, 0, 0],\n",
       "        [0.0, 0.0, 0.0, ..., 0, 0, 0]],\n",
       "\n",
       "       [[36.0, 0.0, 0.0, ..., 0, 0, 0],\n",
       "        [0.0, 18.6, 0.0, ..., 0, 0, 0],\n",
       "        [0.0, 0.0, 0.0, ..., 0, 0, 0],\n",
       "        [74.0, 0.0, 0.0, ..., 0, 0, 0],\n",
       "        [0.0, 0.0, 0.0, ..., 0, 0, 0]]], dtype=object)"
      ]
     },
     "execution_count": 16,
     "metadata": {},
     "output_type": "execute_result"
    }
   ],
   "source": [
    "batches[5]"
   ]
  },
  {
   "cell_type": "code",
   "execution_count": 17,
   "metadata": {
    "collapsed": true
   },
   "outputs": [],
   "source": [
    "X_train = batches[5][:,:-1,:]\n",
    "y_train = batches[5][:,1:,:]"
   ]
  },
  {
   "cell_type": "code",
   "execution_count": 22,
   "metadata": {
    "collapsed": false
   },
   "outputs": [],
   "source": [
    "from keras.preprocessing import sequence\n",
    "from keras.optimizers import SGD, RMSprop, Adagrad\n",
    "from keras.utils import np_utils\n",
    "from keras.models import Sequential\n",
    "from keras.layers.core import Dense, Dropout, Activation, TimeDistributedDense\n",
    "from keras.layers.embeddings import Embedding\n",
    "from keras.layers.recurrent import LSTM, GRU\n",
    "from keras.regularizers import l2\n",
    "from keras.callbacks import EarlyStopping"
   ]
  },
  {
   "cell_type": "code",
   "execution_count": null,
   "metadata": {
    "collapsed": false
   },
   "outputs": [
    {
     "name": "stdout",
     "output_type": "stream",
     "text": [
      "Build model...\n",
      "Compiling model...\n",
      "Training...\n"
     ]
    }
   ],
   "source": [
    "lstmsize = 32\n",
    "dropout = 0.5\n",
    "optim = 'adadelta'\n",
    "#nb_epoch = 50\n",
    "#batch_size = 6\n",
    "\n",
    "print('Build model...')\n",
    "model = Sequential()\n",
    "model.add(LSTM(lstmsize, return_sequences=True, input_shape=(None, X_train.shape[2])))\n",
    "model.add(Dropout(dropout))\n",
    "model.add(TimeDistributedDense(y_train.shape[2]))\n",
    "#model.add(Activation('relu'))\n",
    "\n",
    "print('Compiling model...')\n",
    "model.compile(loss='mean_squared_error', optimizer=optim)\n",
    "\n",
    "print(\"Training...\")\n",
    "#early_stopping = EarlyStopping(monitor='val_loss', patience=3, verbose=1, mode='min')\n",
    "#model.fit(X_train, y_train, batch_size=self.batch_size, nb_epoch=self.nepoch, validation_split=0.3) #, callbacks=[early_stopping])\n",
    "#model.fit(X_train, y_train, batch_size=batch_size, nb_epoch=nb_epoch)\n",
    "for seq_len, batch in batches.items():\n",
    "    X_train = batch[:,:-1,:]\n",
    "    y_train = batch[:,1:,:]\n",
    "    model.train_on_batch(X_train, y_train)"
   ]
  },
  {
   "cell_type": "code",
   "execution_count": 31,
   "metadata": {
    "collapsed": true
   },
   "outputs": [],
   "source": [
    "predicted = model.predict(X_train)"
   ]
  },
  {
   "cell_type": "code",
   "execution_count": 34,
   "metadata": {
    "collapsed": false
   },
   "outputs": [],
   "source": [
    "model.save(\"bpm_lst.model\")"
   ]
  },
  {
   "cell_type": "code",
   "execution_count": 37,
   "metadata": {
    "collapsed": false
   },
   "outputs": [],
   "source": [
    "from keras.models import load_model\n",
    "model2 = load_model(\"bpm_lst.model\")"
   ]
  },
  {
   "cell_type": "code",
   "execution_count": 38,
   "metadata": {
    "collapsed": true
   },
   "outputs": [],
   "source": [
    "predicted2 = model2.predict(X_train)"
   ]
  },
  {
   "cell_type": "code",
   "execution_count": null,
   "metadata": {
    "collapsed": true
   },
   "outputs": [],
   "source": []
  }
 ],
 "metadata": {
  "kernelspec": {
   "display_name": "Python 2",
   "language": "python",
   "name": "python2"
  },
  "language_info": {
   "codemirror_mode": {
    "name": "ipython",
    "version": 2
   },
   "file_extension": ".py",
   "mimetype": "text/x-python",
   "name": "python",
   "nbconvert_exporter": "python",
   "pygments_lexer": "ipython2",
   "version": "2.7.3"
  }
 },
 "nbformat": 4,
 "nbformat_minor": 1
}
